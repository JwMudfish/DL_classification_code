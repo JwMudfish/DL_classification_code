{
 "cells": [
  {
   "cell_type": "markdown",
   "metadata": {},
   "source": [
    "## Train_Validation_Split"
   ]
  },
  {
   "cell_type": "code",
   "execution_count": 5,
   "metadata": {
    "ExecuteTime": {
     "end_time": "2020-05-19T10:13:02.397033Z",
     "start_time": "2020-05-19T10:13:02.229540Z"
    }
   },
   "outputs": [],
   "source": [
    "# Import modules\n",
    "import os\n",
    "import random\n",
    "import shutil\n",
    "\n",
    "\n",
    "img_source_dir = '../../datasets/test'\n",
    "img_target_dir = '../../datasets/data' \n",
    "\n",
    "train_size = 0.90\n",
    "\n",
    "\n",
    "if not os.path.exists(img_target_dir):\n",
    "    os.makedirs(img_target_dir)\n",
    "else:\n",
    "    if not os.path.exists(img_target_dir + '/train'):\n",
    "        os.makedirs(img_target_dir + '/train')\n",
    "    if not os.path.exists(img_target_dir + '/validation'):\n",
    "        os.makedirs(img_target_dir + '/validation')\n",
    "\n",
    "        \n",
    "subdirs = [subdir for subdir in os.listdir(img_source_dir) if os.path.isdir(os.path.join(img_source_dir, subdir))]\n",
    "\n",
    "\n",
    "for subdir in subdirs:\n",
    "    subdir_fullpath = os.path.join(img_source_dir, subdir)\n",
    "    train_subdir = os.path.join(img_target_dir + '/train', subdir)\n",
    "    validation_subdir = os.path.join(img_target_dir + '/validation', subdir)\n",
    "    \n",
    "    if not os.path.exists(train_subdir):\n",
    "        os.makedirs(train_subdir)\n",
    "        \n",
    "    if not os.path.exists(validation_subdir):\n",
    "        os.makedirs(validation_subdir)\n",
    "        \n",
    "    train_counter = 0\n",
    "    validation_counter = 0\n",
    "    \n",
    "    # Randomly assign an image to train or validation folder\n",
    "    for filename in os.listdir(subdir_fullpath):\n",
    "        if filename.endswith(\".jpg\") or filename.endswith(\".png\"): \n",
    "            fileparts = filename.split('.')\n",
    "            \n",
    "            if random.uniform(0, 1) <= train_size:\n",
    "                shutil.move(os.path.join(subdir_fullpath, filename), os.path.join(train_subdir, str(train_counter) + '.' + fileparts[1]))\n",
    "                train_counter += 1\n",
    "            else:\n",
    "                shutil.move(os.path.join(subdir_fullpath, filename), os.path.join(validation_subdir, str(validation_counter) + '.' + fileparts[1]))\n",
    "                validation_counter += 1"
   ]
  },
  {
   "cell_type": "code",
   "execution_count": null,
   "metadata": {},
   "outputs": [],
   "source": []
  },
  {
   "cell_type": "code",
   "execution_count": null,
   "metadata": {},
   "outputs": [],
   "source": []
  },
  {
   "cell_type": "code",
   "execution_count": null,
   "metadata": {},
   "outputs": [],
   "source": []
  },
  {
   "cell_type": "code",
   "execution_count": null,
   "metadata": {},
   "outputs": [],
   "source": []
  }
 ],
 "metadata": {
  "kernelspec": {
   "display_name": "Python 3",
   "language": "python",
   "name": "python3"
  },
  "language_info": {
   "codemirror_mode": {
    "name": "ipython",
    "version": 3
   },
   "file_extension": ".py",
   "mimetype": "text/x-python",
   "name": "python",
   "nbconvert_exporter": "python",
   "pygments_lexer": "ipython3",
   "version": "3.7.6"
  },
  "toc": {
   "base_numbering": 1,
   "nav_menu": {},
   "number_sections": false,
   "sideBar": true,
   "skip_h1_title": false,
   "title_cell": "Table of Contents",
   "title_sidebar": "Contents",
   "toc_cell": false,
   "toc_position": {},
   "toc_section_display": true,
   "toc_window_display": false
  }
 },
 "nbformat": 4,
 "nbformat_minor": 2
}
