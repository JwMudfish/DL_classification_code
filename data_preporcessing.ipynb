{
 "cells": [
  {
   "cell_type": "markdown",
   "metadata": {},
   "source": [
    "## Train_Validation_Split"
   ]
  },
  {
   "cell_type": "code",
   "execution_count": 5,
   "metadata": {
    "ExecuteTime": {
     "end_time": "2020-05-19T10:13:02.397033Z",
     "start_time": "2020-05-19T10:13:02.229540Z"
    }
   },
   "outputs": [],
   "source": [
    "# Import modules\n",
    "import os\n",
    "import random\n",
    "import shutil\n",
    "\n",
    "\n",
    "img_source_dir = '../../datasets/test'\n",
    "img_target_dir = '../../datasets/data' \n",
    "\n",
    "train_size = 0.90\n",
    "\n",
    "\n",
    "if not os.path.exists(img_target_dir):\n",
    "    os.makedirs(img_target_dir)\n",
    "else:\n",
    "    if not os.path.exists(img_target_dir + '/train'):\n",
    "        os.makedirs(img_target_dir + '/train')\n",
    "    if not os.path.exists(img_target_dir + '/validation'):\n",
    "        os.makedirs(img_target_dir + '/validation')\n",
    "\n",
    "        \n",
    "subdirs = [subdir for subdir in os.listdir(img_source_dir) if os.path.isdir(os.path.join(img_source_dir, subdir))]\n",
    "\n",
    "\n",
    "for subdir in subdirs:\n",
    "    subdir_fullpath = os.path.join(img_source_dir, subdir)\n",
    "    train_subdir = os.path.join(img_target_dir + '/train', subdir)\n",
    "    validation_subdir = os.path.join(img_target_dir + '/validation', subdir)\n",
    "    \n",
    "    if not os.path.exists(train_subdir):\n",
    "        os.makedirs(train_subdir)\n",
    "        \n",
    "    if not os.path.exists(validation_subdir):\n",
    "        os.makedirs(validation_subdir)\n",
    "        \n",
    "    train_counter = 0\n",
    "    validation_counter = 0\n",
    "    \n",
    "    # Randomly assign an image to train or validation folder\n",
    "    for filename in os.listdir(subdir_fullpath):\n",
    "        if filename.endswith(\".jpg\") or filename.endswith(\".png\"): \n",
    "            fileparts = filename.split('.')\n",
    "            \n",
    "            if random.uniform(0, 1) <= train_size:\n",
    "                shutil.move(os.path.join(subdir_fullpath, filename), os.path.join(train_subdir, str(train_counter) + '.' + fileparts[1]))\n",
    "                train_counter += 1\n",
    "            else:\n",
    "                shutil.move(os.path.join(subdir_fullpath, filename), os.path.join(validation_subdir, str(validation_counter) + '.' + fileparts[1]))\n",
    "                validation_counter += 1"
   ]
  },
  {
   "cell_type": "markdown",
   "metadata": {},
   "source": [
    "---"
   ]
  },
  {
   "cell_type": "markdown",
   "metadata": {},
   "source": [
    "## Seed image Crop"
   ]
  },
  {
   "cell_type": "code",
   "execution_count": 33,
   "metadata": {
    "ExecuteTime": {
     "end_time": "2020-05-26T06:34:37.198779Z",
     "start_time": "2020-05-26T06:34:37.179327Z"
    }
   },
   "outputs": [],
   "source": [
    "import xml.etree.ElementTree as ET\n",
    "from xml.dom import minidom\n",
    "import os\n",
    "import glob\n",
    "\n",
    "label_path = './test/xml'\n",
    "xml_list = os.listdir(label_path)\n",
    "\n",
    "boxes = []\n",
    "cnt = 0\n",
    "for xml_file in sorted(xml_list):\n",
    "    if xml_file =='.DS_Store':\n",
    "        pass\n",
    "    else:\n",
    "            #try:\n",
    "        xml_path = os.path.join(label_path,xml_file)\n",
    "\n",
    "        root_1 = minidom.parse(xml_path)\n",
    "        bnd_1 = root_1.getElementsByTagName('bndbox')\n",
    "\n",
    "        for i in range(len(bnd_1)):\n",
    "            xmin = int(bnd_1[i].childNodes[1].childNodes[0].nodeValue)\n",
    "            ymin = int(bnd_1[i].childNodes[3].childNodes[0].nodeValue)\n",
    "            xmax = int(bnd_1[i].childNodes[5].childNodes[0].nodeValue)\n",
    "            ymax = int(bnd_1[i].childNodes[7].childNodes[0].nodeValue)\n",
    "            \n",
    "            boxes.append((xmin,ymin,xmax,ymax))\n",
    "        "
   ]
  },
  {
   "cell_type": "code",
   "execution_count": 32,
   "metadata": {
    "ExecuteTime": {
     "end_time": "2020-05-26T06:34:14.014376Z",
     "start_time": "2020-05-26T06:34:14.005236Z"
    }
   },
   "outputs": [
    {
     "data": {
      "text/plain": [
       "[(62, 277, 929, 2448),\n",
       " (1346, 508, 1773, 2371),\n",
       " (1917, 661, 2235, 2041),\n",
       " (2326, 800, 2580, 1929),\n",
       " (2616, 900, 2807, 1847),\n",
       " (2826, 914, 2948, 1743),\n",
       " (2962, 959, 3084, 1693),\n",
       " (3096, 1023, 3178, 1646)]"
      ]
     },
     "execution_count": 32,
     "metadata": {},
     "output_type": "execute_result"
    }
   ],
   "source": [
    "boxes_1"
   ]
  },
  {
   "cell_type": "code",
   "execution_count": null,
   "metadata": {},
   "outputs": [],
   "source": [
    "# 이미지 리스트 처음에 정의해야 함 - 리스트 가져와서 자동으로 쓰는 형식..\n",
    "#li = ['baeksansoo','samdasoo','e_liter','sprite','trevi','pocari_pet','ion_the_fit','evian']\n",
    "\n",
    "#li = ['grape','peach','gal_bae','mango','vita_500','dailyC','hongsam','gas_hwal']   #1단\n",
    "li = ['pocari1','pocari2','power1','power2','red_bull','2%','sol','tejava']   # 2단\n",
    "#li = ['coca_can1','coca_can2','pepsi_can','milkis','demisoda','oranC','sprite','welchs'] # 3단\n",
    "#li = ['coca_pet1','coca_pet2','pepsi_pet1','pepsi_pet2','sprite_pet1','sprite_pet2','gal_bae_pet1','gal_bae_pet2']\n",
    "#li = ['2%_peach_pet1','2%_peach_pet2','fanta_orange_pet1','fanta_orange_pet2','fanta_pine_pet','mccol','milkis_pet1','milkis_pet2']\n",
    "#li = ['aloe_pet1','aloe_pet2','apple_pet','virak_pet','mogumogu','lemonade','jeju_pet1','jeju_pet2']\n",
    "#li = ['potato_original1','potato_original2','potato_original3','sweet_potato1','sweet_potato2','sweet_potato3','potato_onion1','potato_onion2']\n",
    "#li = ['oyes','fresh_berry']\n",
    "#li = ['potato_stick1','potato_stick2','potato_chips1','potato_chips2']"
   ]
  },
  {
   "cell_type": "code",
   "execution_count": 23,
   "metadata": {
    "ExecuteTime": {
     "end_time": "2020-05-26T06:19:38.888250Z",
     "start_time": "2020-05-26T06:19:38.860257Z"
    }
   },
   "outputs": [],
   "source": [
    "import os\n",
    "from PIL import Image\n",
    "from tqdm import tqdm\n",
    "\n",
    "\n",
    "SEED_IMAGE_PATH = './test/seed_image/'        # seed data 있는 곳\n",
    "CLS_IMAGE_PATH = './test/result/'             # 잘린 데이터 저장할 곳\n",
    "\n",
    "item_total_list = [li[i:] + li[:i] for i in range(len(li))]\n",
    "seed_image_list = os.listdir(SEED_IMAGE_PATH)\n",
    "\n",
    "\n",
    "for folder in li:\n",
    "    folder_path = CLS_IMAGE_PATH + folder\n",
    "    if not os.path.exists(folder_path):\n",
    "        os.makedirs(folder_path)\n",
    "\n",
    "def get_index(product):\n",
    "    return [i[0] == product for i in item_total_list].index(True)\n",
    "\n",
    "def crop_train_data(boxes, resize=None):\n",
    "    num = 0\n",
    "    #seed_image_dir = os.listdir('./seed_image/')\n",
    "    \n",
    "    for i in tqdm(range(len(seed_image_list)), desc=\"processing\"):\n",
    "        #seed_image_dir = os.listdir('./train_images/crop_train/')\n",
    "        #img_path = './test/seed_image/{}/'.format(seed_image_list[i])  # 백산수, travi..\n",
    "        img_path = SEED_IMAGE_PATH + '{}/'.format(seed_image_list[i])\n",
    "        img_list = os.listdir(img_path)\n",
    "\n",
    "        #idx = get_index(image_dir[i].split('.')[1])\n",
    "        idx = get_index(seed_image_list[i])\n",
    "        item_list = item_total_list[idx]\n",
    "\n",
    "        for img in img_list:\n",
    "            image = os.path.join(img_path,img)\n",
    "            input_img = Image.open(image)\n",
    "\n",
    "            for k in range(4):\n",
    "                result = input_img.crop(boxes[k])\n",
    "                result = result.resize(resize)\n",
    "                #result.save('./test/result/{}/{}.jpg'.format(item_list[k],num))\n",
    "                result.save(CLS_IMAGE_PATH + '{}/{}.jpg'.format(item_list[k],num))\n",
    "                num = num + 1\n",
    "            "
   ]
  },
  {
   "cell_type": "code",
   "execution_count": 24,
   "metadata": {
    "ExecuteTime": {
     "end_time": "2020-05-26T06:22:02.104472Z",
     "start_time": "2020-05-26T06:19:41.153264Z"
    }
   },
   "outputs": [
    {
     "name": "stderr",
     "output_type": "stream",
     "text": [
      "processing: 100%|██████████| 8/8 [02:20<00:00, 17.62s/it]\n"
     ]
    }
   ],
   "source": [
    "crop_train_data(boxes_1, resize=(224,224))"
   ]
  },
  {
   "cell_type": "markdown",
   "metadata": {},
   "source": [
    "---"
   ]
  },
  {
   "cell_type": "markdown",
   "metadata": {},
   "source": [
    "## Convert xml to txt"
   ]
  },
  {
   "cell_type": "code",
   "execution_count": null,
   "metadata": {},
   "outputs": [],
   "source": [
    "# -*- coding: utf-8 -*-\n",
    "\n",
    "from xml.dom import minidom\n",
    "import os\n",
    "import glob"
   ]
  },
  {
   "cell_type": "code",
   "execution_count": null,
   "metadata": {},
   "outputs": [],
   "source": [
    "lut={}\n",
    "lut[\"fresh berry\"]      =0\n",
    "lut[\"ace\"]              =1\n",
    "lut[\"sand\"]             =2\n",
    "lut[\"oreo\"]             =3\n",
    "lut[\"choco\"]            =4\n",
    "lut[\"homerun_milk\"]     =5\n",
    "lut[\"potato_onion\"]     =6\n",
    "lut[\"chocochip\"]        =7\n",
    "lut[\"potato stick\"]     =8\n",
    "lut[\"potato chips\"]     =9\n",
    "lut[\"homerun_choco\"]    =10\n",
    "lut[\"coconut\"]          =11\n",
    "lut[\"oyes\"]             =12\n",
    "lut[\"potato_original\"]   =13\n",
    "lut[\"zec\"]              =14\n",
    "lut[\"homerun_tiramisu\"] =15\n",
    "lut[\"sweet potato\"]     =16"
   ]
  },
  {
   "cell_type": "code",
   "execution_count": null,
   "metadata": {},
   "outputs": [],
   "source": [
    "def convert_coordinates(size, box):\n",
    "    dw = 1.0/size[0]\n",
    "    dh = 1.0/size[1]\n",
    "    x = (box[0]+box[1])/2.0\n",
    "    y = (box[2]+box[3])/2.0\n",
    "    w = box[1]-box[0]\n",
    "    h = box[3]-box[2]\n",
    "    x = x*dw\n",
    "    w = w*dw\n",
    "    y = y*dh\n",
    "    h = h*dh\n",
    "    return (x,y,w,h)\n",
    "\n",
    "\n",
    "def convert_xml2yolo( lut ):\n",
    "\n",
    "    for fname in glob.glob(\"./labels/*.xml\"):\n",
    "        \n",
    "        xmldoc = minidom.parse(fname)\n",
    "        \n",
    "        fname_out = (fname[:-4]+'.txt')\n",
    "\n",
    "        with open(fname_out, \"w\") as f:\n",
    "\n",
    "            itemlist = xmldoc.getElementsByTagName('object')\n",
    "            size = xmldoc.getElementsByTagName('size')[0]\n",
    "            width = int((size.getElementsByTagName('width')[0]).firstChild.data)\n",
    "            height = int((size.getElementsByTagName('height')[0]).firstChild.data)\n",
    "\n",
    "            for item in itemlist:\n",
    "                # get class label\n",
    "                classid =  (item.getElementsByTagName('name')[0]).firstChild.data\n",
    "                if classid in lut:\n",
    "                    label_str = str(lut[classid])\n",
    "                else:\n",
    "                    label_str = \"-1\"\n",
    "                    print (\"warning: label '%s' not in look-up table\" %classid)\n",
    "\n",
    "                # get bbox coordinates\n",
    "                xmin = ((item.getElementsByTagName('bndbox')[0]).getElementsByTagName('xmin')[0]).firstChild.data\n",
    "                ymin = ((item.getElementsByTagName('bndbox')[0]).getElementsByTagName('ymin')[0]).firstChild.data\n",
    "                xmax = ((item.getElementsByTagName('bndbox')[0]).getElementsByTagName('xmax')[0]).firstChild.data\n",
    "                ymax = ((item.getElementsByTagName('bndbox')[0]).getElementsByTagName('ymax')[0]).firstChild.data\n",
    "                b = (float(xmin), float(xmax), float(ymin), float(ymax))\n",
    "                bb = convert_coordinates((width,height), b)\n",
    "                #print(bb)\n",
    "\n",
    "                f.write(label_str + \" \" + \" \".join([(\"%.6f\" % a) for a in bb]) + '\\n')\n",
    "\n",
    "        print (\"wrote %s\" % fname_out)\n",
    "\n",
    "\n",
    "\n",
    "def main():\n",
    "    convert_xml2yolo( lut )\n",
    "\n",
    "\n",
    "if __name__ == '__main__':\n",
    "    main()"
   ]
  },
  {
   "cell_type": "code",
   "execution_count": null,
   "metadata": {},
   "outputs": [],
   "source": []
  },
  {
   "cell_type": "code",
   "execution_count": null,
   "metadata": {},
   "outputs": [],
   "source": []
  },
  {
   "cell_type": "code",
   "execution_count": null,
   "metadata": {},
   "outputs": [],
   "source": []
  },
  {
   "cell_type": "code",
   "execution_count": null,
   "metadata": {},
   "outputs": [],
   "source": []
  }
 ],
 "metadata": {
  "kernelspec": {
   "display_name": "Python 3",
   "language": "python",
   "name": "python3"
  },
  "language_info": {
   "codemirror_mode": {
    "name": "ipython",
    "version": 3
   },
   "file_extension": ".py",
   "mimetype": "text/x-python",
   "name": "python",
   "nbconvert_exporter": "python",
   "pygments_lexer": "ipython3",
   "version": "3.7.6"
  },
  "toc": {
   "base_numbering": 1,
   "nav_menu": {},
   "number_sections": false,
   "sideBar": true,
   "skip_h1_title": false,
   "title_cell": "Table of Contents",
   "title_sidebar": "Contents",
   "toc_cell": false,
   "toc_position": {},
   "toc_section_display": true,
   "toc_window_display": false
  }
 },
 "nbformat": 4,
 "nbformat_minor": 2
}
