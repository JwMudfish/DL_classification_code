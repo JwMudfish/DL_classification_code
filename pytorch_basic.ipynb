{
 "cells": [
  {
   "cell_type": "code",
   "execution_count": 4,
   "metadata": {
    "ExecuteTime": {
     "end_time": "2020-05-14T06:52:59.888154Z",
     "start_time": "2020-05-14T06:52:59.873360Z"
    }
   },
   "outputs": [],
   "source": [
    "import torch\n",
    "import torchvision\n",
    "import torchvision.transforms as tr\n",
    "from torch.utils.data import DataLoader, Dataset\n",
    "import torch.nn as nn\n",
    "import numpy as np\n",
    "import pandas as pd\n",
    "import cv2\n",
    "import torchsummary\n",
    "from sklearn.metrics import recall_score\n",
    "from glob import glob\n",
    "import os\n",
    "\n",
    "\n",
    "import matplotlib.pyplot as plt\n",
    "from tqdm import tqdm_notebook\n",
    "import warnings\n",
    "warnings.filterwarnings(action='ignore')\n",
    "from os.path import isfile, join, abspath, exists, isdir, expanduser\n",
    "from torchvision import transforms, datasets, models\n",
    "from PIL import Image\n"
   ]
  },
  {
   "cell_type": "code",
   "execution_count": 2,
   "metadata": {
    "ExecuteTime": {
     "end_time": "2020-05-14T06:51:13.472205Z",
     "start_time": "2020-05-14T06:51:13.424630Z"
    }
   },
   "outputs": [
    {
     "name": "stdout",
     "output_type": "stream",
     "text": [
      "Current cuda device  2\n",
      "TITAN Xp\n",
      "Memory Usage:\n",
      "Allocated: 0.0 GB\n",
      "Cached:    0.0 GB\n"
     ]
    }
   ],
   "source": [
    "GPU_NUM = 2 # 원하는 GPU 번호 입력\n",
    "device = torch.device(f'cuda:{GPU_NUM}' if torch.cuda.is_available() else 'cpu')\n",
    "torch.cuda.set_device(device) # change allocation of current GPU\n",
    "print ('Current cuda device ', torch.cuda.current_device()) # check\n",
    "\n",
    "# Infos\n",
    "if device.type == 'cuda':\n",
    "    print(torch.cuda.get_device_name(GPU_NUM))\n",
    "    print('Memory Usage:')\n",
    "    print('Allocated:', round(torch.cuda.memory_allocated(GPU_NUM)/1024**3,1), 'GB')\n",
    "    print('Cached:   ', round(torch.cuda.memory_cached(GPU_NUM)/1024**3,1), 'GB')\n"
   ]
  },
  {
   "cell_type": "code",
   "execution_count": null,
   "metadata": {},
   "outputs": [],
   "source": [
    "img_dir = '../datasets/emart24/beverage'\n",
    "#img_dir = '../datasets/test'\n",
    "\n",
    "\n",
    "result = []\n",
    "idx = 0\n",
    "\n",
    "label_list = [f for f in os.listdir(img_dir) if not f.startswith('.')]\n",
    "num_to_class = dict(zip(range(len(label_list)), label_list))\n",
    "\n",
    "for label in num_to_class:\n",
    "    file_list = glob(os.path.join(img_dir,num_to_class[label],'*'))\n",
    "    \n",
    "    for file in file_list:\n",
    "        result.append(['Train_{}'.format(idx), idx, label, num_to_class[label], file])\n",
    "        idx += 1\n",
    "\n",
    "df_train = pd.DataFrame(result, columns=['image_id','idx','num_label','cate_label','image'])\n"
   ]
  },
  {
   "cell_type": "code",
   "execution_count": 6,
   "metadata": {
    "ExecuteTime": {
     "end_time": "2020-05-14T06:53:20.851710Z",
     "start_time": "2020-05-14T06:53:20.833286Z"
    },
    "scrolled": true
   },
   "outputs": [
    {
     "data": {
      "text/plain": [
       "{0: 'gal_bae_can',\n",
       " 1: 'demisoda',\n",
       " 2: 'peach',\n",
       " 3: 'power',\n",
       " 4: 'fanta_pine_pet',\n",
       " 5: 'mango',\n",
       " 6: 'milkis_pet',\n",
       " 7: 'vita_500',\n",
       " 8: 'apple_pet',\n",
       " 9: 'mccol',\n",
       " 10: 'fanta_orange_pet',\n",
       " 11: 'dailyC',\n",
       " 12: 'grape',\n",
       " 13: 'sprite_pet',\n",
       " 14: 'milkis_can',\n",
       " 15: 'sprite_can',\n",
       " 16: 'coca_can',\n",
       " 17: 'sol',\n",
       " 18: 'gas_hwal',\n",
       " 19: 'aloe_pet',\n",
       " 20: '2%_peach_pet',\n",
       " 21: 'mogumogu',\n",
       " 22: 'coca_pet',\n",
       " 23: 'virak_pet',\n",
       " 24: 'tejava',\n",
       " 25: 'lemonade',\n",
       " 26: 'hongsam',\n",
       " 27: 'pocari',\n",
       " 28: 'pepsi_can',\n",
       " 29: 'pepsi_pet',\n",
       " 30: 'gal_bae_pet',\n",
       " 31: 'jeju_pet',\n",
       " 32: '2%_can',\n",
       " 33: 'red_bull',\n",
       " 34: 'welchs',\n",
       " 35: 'oranC'}"
      ]
     },
     "execution_count": 6,
     "metadata": {},
     "output_type": "execute_result"
    }
   ],
   "source": [
    "data_dir = '../datasets/emart24/beverage/'\n",
    "img_dir = '../datasets/emart24/beverage'\n",
    "cache_dir = expanduser(join('~', '.torch'))\n",
    "\n",
    "image_size = 224\n",
    "batch_size = 84\n",
    "\n",
    "label_list = [f for f in os.listdir(img_dir) if not f.startswith('.')]\n",
    "classes = os.listdir(data_dir)\n",
    "#classes = sorted(classes, key=lambda item: (int(item.partition(' ')[0])\n",
    "                               #if item[0].isdigit() else float('inf'), item))\n",
    "num_to_class = dict(zip(range(len(classes)), classes))\n",
    "num_to_class"
   ]
  },
  {
   "cell_type": "code",
   "execution_count": 7,
   "metadata": {
    "ExecuteTime": {
     "end_time": "2020-05-14T06:53:33.098226Z",
     "start_time": "2020-05-14T06:53:32.941887Z"
    }
   },
   "outputs": [
    {
     "data": {
      "text/html": [
       "<div>\n",
       "<style scoped>\n",
       "    .dataframe tbody tr th:only-of-type {\n",
       "        vertical-align: middle;\n",
       "    }\n",
       "\n",
       "    .dataframe tbody tr th {\n",
       "        vertical-align: top;\n",
       "    }\n",
       "\n",
       "    .dataframe thead th {\n",
       "        text-align: right;\n",
       "    }\n",
       "</style>\n",
       "<table border=\"1\" class=\"dataframe\">\n",
       "  <thead>\n",
       "    <tr style=\"text-align: right;\">\n",
       "      <th></th>\n",
       "      <th>file</th>\n",
       "      <th>category</th>\n",
       "      <th>category_id</th>\n",
       "    </tr>\n",
       "  </thead>\n",
       "  <tbody>\n",
       "    <tr>\n",
       "      <th>0</th>\n",
       "      <td>gal_bae_can/2253.jpg</td>\n",
       "      <td>gal_bae_can</td>\n",
       "      <td>0</td>\n",
       "    </tr>\n",
       "    <tr>\n",
       "      <th>1</th>\n",
       "      <td>gal_bae_can/450.jpg</td>\n",
       "      <td>gal_bae_can</td>\n",
       "      <td>0</td>\n",
       "    </tr>\n",
       "    <tr>\n",
       "      <th>2</th>\n",
       "      <td>gal_bae_can/2317.jpg</td>\n",
       "      <td>gal_bae_can</td>\n",
       "      <td>0</td>\n",
       "    </tr>\n",
       "    <tr>\n",
       "      <th>3</th>\n",
       "      <td>gal_bae_can/3972.jpg</td>\n",
       "      <td>gal_bae_can</td>\n",
       "      <td>0</td>\n",
       "    </tr>\n",
       "    <tr>\n",
       "      <th>4</th>\n",
       "      <td>gal_bae_can/4156.jpg</td>\n",
       "      <td>gal_bae_can</td>\n",
       "      <td>0</td>\n",
       "    </tr>\n",
       "    <tr>\n",
       "      <th>...</th>\n",
       "      <td>...</td>\n",
       "      <td>...</td>\n",
       "      <td>...</td>\n",
       "    </tr>\n",
       "    <tr>\n",
       "      <th>30555</th>\n",
       "      <td>oranC/723.jpg</td>\n",
       "      <td>oranC</td>\n",
       "      <td>35</td>\n",
       "    </tr>\n",
       "    <tr>\n",
       "      <th>30556</th>\n",
       "      <td>oranC/263.jpg</td>\n",
       "      <td>oranC</td>\n",
       "      <td>35</td>\n",
       "    </tr>\n",
       "    <tr>\n",
       "      <th>30557</th>\n",
       "      <td>oranC/1914.jpg</td>\n",
       "      <td>oranC</td>\n",
       "      <td>35</td>\n",
       "    </tr>\n",
       "    <tr>\n",
       "      <th>30558</th>\n",
       "      <td>oranC/4476.jpg</td>\n",
       "      <td>oranC</td>\n",
       "      <td>35</td>\n",
       "    </tr>\n",
       "    <tr>\n",
       "      <th>30559</th>\n",
       "      <td>oranC/4686.jpg</td>\n",
       "      <td>oranC</td>\n",
       "      <td>35</td>\n",
       "    </tr>\n",
       "  </tbody>\n",
       "</table>\n",
       "<p>30560 rows × 3 columns</p>\n",
       "</div>"
      ],
      "text/plain": [
       "                       file     category  category_id\n",
       "0      gal_bae_can/2253.jpg  gal_bae_can            0\n",
       "1       gal_bae_can/450.jpg  gal_bae_can            0\n",
       "2      gal_bae_can/2317.jpg  gal_bae_can            0\n",
       "3      gal_bae_can/3972.jpg  gal_bae_can            0\n",
       "4      gal_bae_can/4156.jpg  gal_bae_can            0\n",
       "...                     ...          ...          ...\n",
       "30555         oranC/723.jpg        oranC           35\n",
       "30556         oranC/263.jpg        oranC           35\n",
       "30557        oranC/1914.jpg        oranC           35\n",
       "30558        oranC/4476.jpg        oranC           35\n",
       "30559        oranC/4686.jpg        oranC           35\n",
       "\n",
       "[30560 rows x 3 columns]"
      ]
     },
     "execution_count": 7,
     "metadata": {},
     "output_type": "execute_result"
    }
   ],
   "source": [
    "train = []\n",
    "for index, label in enumerate(classes):\n",
    "    path = data_dir +'/'+ label + '/'\n",
    "    for file in os.listdir(path):\n",
    "        train.append(['{}/{}'.format(label, file), label, index])\n",
    "    \n",
    "df = pd.DataFrame(train, columns=['file', 'category', 'category_id',]) \n",
    "df"
   ]
  },
  {
   "cell_type": "code",
   "execution_count": 8,
   "metadata": {
    "ExecuteTime": {
     "end_time": "2020-05-14T06:53:42.596799Z",
     "start_time": "2020-05-14T06:53:42.570523Z"
    }
   },
   "outputs": [],
   "source": [
    "train_data = df.sample(frac=0.8)\n",
    "valid_data = df[~df['file'].isin(train_data['file'])]"
   ]
  },
  {
   "cell_type": "code",
   "execution_count": 10,
   "metadata": {
    "ExecuteTime": {
     "end_time": "2020-05-14T06:54:23.011677Z",
     "start_time": "2020-05-14T06:54:22.996373Z"
    }
   },
   "outputs": [],
   "source": [
    "class SeedlingDataset(Dataset):\n",
    "    def __init__(self, labels, root_dir, subset=False, transform=None):\n",
    "        self.labels = labels\n",
    "        self.root_dir = root_dir\n",
    "        self.transform = transform\n",
    "    \n",
    "    def __len__(self):\n",
    "        return len(self.labels)\n",
    "    \n",
    "    def __getitem__(self, idx):\n",
    "        img_name = self.labels.iloc[idx, 0]\n",
    "        fullname = join(self.root_dir, img_name)\n",
    "        image = Image.open(fullname).convert('RGB')\n",
    "        labels = self.labels.iloc[idx, 2]\n",
    "        if self.transform:\n",
    "            image = self.transform(image)\n",
    "        return image, int(labels)"
   ]
  },
  {
   "cell_type": "code",
   "execution_count": 31,
   "metadata": {
    "ExecuteTime": {
     "end_time": "2020-05-14T08:26:45.599572Z",
     "start_time": "2020-05-14T08:26:45.500284Z"
    }
   },
   "outputs": [],
   "source": [
    "df_fold = pd.read_csv('./train_fold_t.csv')"
   ]
  },
  {
   "cell_type": "code",
   "execution_count": 45,
   "metadata": {
    "ExecuteTime": {
     "end_time": "2020-05-14T08:36:56.629223Z",
     "start_time": "2020-05-14T08:36:56.596814Z"
    }
   },
   "outputs": [
    {
     "data": {
      "text/html": [
       "<div>\n",
       "<style scoped>\n",
       "    .dataframe tbody tr th:only-of-type {\n",
       "        vertical-align: middle;\n",
       "    }\n",
       "\n",
       "    .dataframe tbody tr th {\n",
       "        vertical-align: top;\n",
       "    }\n",
       "\n",
       "    .dataframe thead th {\n",
       "        text-align: right;\n",
       "    }\n",
       "</style>\n",
       "<table border=\"1\" class=\"dataframe\">\n",
       "  <thead>\n",
       "    <tr style=\"text-align: right;\">\n",
       "      <th></th>\n",
       "      <th>image_id</th>\n",
       "      <th>idx</th>\n",
       "      <th>num_label</th>\n",
       "      <th>cate_label</th>\n",
       "      <th>image</th>\n",
       "      <th>fold</th>\n",
       "    </tr>\n",
       "  </thead>\n",
       "  <tbody>\n",
       "    <tr>\n",
       "      <th>0</th>\n",
       "      <td>Train_0</td>\n",
       "      <td>0</td>\n",
       "      <td>0</td>\n",
       "      <td>gal_bae_can</td>\n",
       "      <td>../datasets/emart24/beverage/gal_bae_can/2253.jpg</td>\n",
       "      <td>8</td>\n",
       "    </tr>\n",
       "    <tr>\n",
       "      <th>1</th>\n",
       "      <td>Train_1</td>\n",
       "      <td>1</td>\n",
       "      <td>0</td>\n",
       "      <td>gal_bae_can</td>\n",
       "      <td>../datasets/emart24/beverage/gal_bae_can/450.jpg</td>\n",
       "      <td>7</td>\n",
       "    </tr>\n",
       "    <tr>\n",
       "      <th>2</th>\n",
       "      <td>Train_2</td>\n",
       "      <td>2</td>\n",
       "      <td>0</td>\n",
       "      <td>gal_bae_can</td>\n",
       "      <td>../datasets/emart24/beverage/gal_bae_can/2317.jpg</td>\n",
       "      <td>8</td>\n",
       "    </tr>\n",
       "    <tr>\n",
       "      <th>3</th>\n",
       "      <td>Train_3</td>\n",
       "      <td>3</td>\n",
       "      <td>0</td>\n",
       "      <td>gal_bae_can</td>\n",
       "      <td>../datasets/emart24/beverage/gal_bae_can/3972.jpg</td>\n",
       "      <td>8</td>\n",
       "    </tr>\n",
       "    <tr>\n",
       "      <th>4</th>\n",
       "      <td>Train_4</td>\n",
       "      <td>4</td>\n",
       "      <td>0</td>\n",
       "      <td>gal_bae_can</td>\n",
       "      <td>../datasets/emart24/beverage/gal_bae_can/4156.jpg</td>\n",
       "      <td>1</td>\n",
       "    </tr>\n",
       "    <tr>\n",
       "      <th>...</th>\n",
       "      <td>...</td>\n",
       "      <td>...</td>\n",
       "      <td>...</td>\n",
       "      <td>...</td>\n",
       "      <td>...</td>\n",
       "      <td>...</td>\n",
       "    </tr>\n",
       "    <tr>\n",
       "      <th>30555</th>\n",
       "      <td>Train_30555</td>\n",
       "      <td>30555</td>\n",
       "      <td>35</td>\n",
       "      <td>oranC</td>\n",
       "      <td>../datasets/emart24/beverage/oranC/723.jpg</td>\n",
       "      <td>9</td>\n",
       "    </tr>\n",
       "    <tr>\n",
       "      <th>30556</th>\n",
       "      <td>Train_30556</td>\n",
       "      <td>30556</td>\n",
       "      <td>35</td>\n",
       "      <td>oranC</td>\n",
       "      <td>../datasets/emart24/beverage/oranC/263.jpg</td>\n",
       "      <td>3</td>\n",
       "    </tr>\n",
       "    <tr>\n",
       "      <th>30557</th>\n",
       "      <td>Train_30557</td>\n",
       "      <td>30557</td>\n",
       "      <td>35</td>\n",
       "      <td>oranC</td>\n",
       "      <td>../datasets/emart24/beverage/oranC/1914.jpg</td>\n",
       "      <td>1</td>\n",
       "    </tr>\n",
       "    <tr>\n",
       "      <th>30558</th>\n",
       "      <td>Train_30558</td>\n",
       "      <td>30558</td>\n",
       "      <td>35</td>\n",
       "      <td>oranC</td>\n",
       "      <td>../datasets/emart24/beverage/oranC/4476.jpg</td>\n",
       "      <td>0</td>\n",
       "    </tr>\n",
       "    <tr>\n",
       "      <th>30559</th>\n",
       "      <td>Train_30559</td>\n",
       "      <td>30559</td>\n",
       "      <td>35</td>\n",
       "      <td>oranC</td>\n",
       "      <td>../datasets/emart24/beverage/oranC/4686.jpg</td>\n",
       "      <td>7</td>\n",
       "    </tr>\n",
       "  </tbody>\n",
       "</table>\n",
       "<p>30560 rows × 6 columns</p>\n",
       "</div>"
      ],
      "text/plain": [
       "          image_id    idx  num_label   cate_label  \\\n",
       "0          Train_0      0          0  gal_bae_can   \n",
       "1          Train_1      1          0  gal_bae_can   \n",
       "2          Train_2      2          0  gal_bae_can   \n",
       "3          Train_3      3          0  gal_bae_can   \n",
       "4          Train_4      4          0  gal_bae_can   \n",
       "...            ...    ...        ...          ...   \n",
       "30555  Train_30555  30555         35        oranC   \n",
       "30556  Train_30556  30556         35        oranC   \n",
       "30557  Train_30557  30557         35        oranC   \n",
       "30558  Train_30558  30558         35        oranC   \n",
       "30559  Train_30559  30559         35        oranC   \n",
       "\n",
       "                                                   image  fold  \n",
       "0      ../datasets/emart24/beverage/gal_bae_can/2253.jpg     8  \n",
       "1       ../datasets/emart24/beverage/gal_bae_can/450.jpg     7  \n",
       "2      ../datasets/emart24/beverage/gal_bae_can/2317.jpg     8  \n",
       "3      ../datasets/emart24/beverage/gal_bae_can/3972.jpg     8  \n",
       "4      ../datasets/emart24/beverage/gal_bae_can/4156.jpg     1  \n",
       "...                                                  ...   ...  \n",
       "30555         ../datasets/emart24/beverage/oranC/723.jpg     9  \n",
       "30556         ../datasets/emart24/beverage/oranC/263.jpg     3  \n",
       "30557        ../datasets/emart24/beverage/oranC/1914.jpg     1  \n",
       "30558        ../datasets/emart24/beverage/oranC/4476.jpg     0  \n",
       "30559        ../datasets/emart24/beverage/oranC/4686.jpg     7  \n",
       "\n",
       "[30560 rows x 6 columns]"
      ]
     },
     "execution_count": 45,
     "metadata": {},
     "output_type": "execute_result"
    }
   ],
   "source": [
    "df_fold"
   ]
  },
  {
   "cell_type": "code",
   "execution_count": 41,
   "metadata": {
    "ExecuteTime": {
     "end_time": "2020-05-14T08:36:09.200651Z",
     "start_time": "2020-05-14T08:36:09.183995Z"
    }
   },
   "outputs": [],
   "source": [
    "class SeedlingDataset(Dataset):\n",
    "    def __init__(self, labels, root_dir, subset=False, transform=None):\n",
    "        self.labels = labels\n",
    "        self.root_dir = root_dir\n",
    "        self.transform = transform\n",
    "    \n",
    "    def __len__(self):\n",
    "        return len(self.labels)\n",
    "    \n",
    "    def __getitem__(self, idx):\n",
    "        #img_id = self.img_ids[index]\n",
    "        img = cv2.imread(df_fold['image'][index]).astype(np.uint8)\n",
    "        #img = img.reshape(self.img_height, self.img_width).astype(np.uint8)\n",
    "        img = cv2.cvtColor(img, cv2.COLOR_BGR2RGB)\n",
    "        \n",
    "        #labels = self.labels.iloc[idx, 2]\n",
    "        labels = self.labels.iloc[index].num_label\n",
    "        if self.transform:\n",
    "            image = self.transform(image)\n",
    "        return image, int(labels)"
   ]
  },
  {
   "cell_type": "code",
   "execution_count": 42,
   "metadata": {
    "ExecuteTime": {
     "end_time": "2020-05-14T08:36:09.615508Z",
     "start_time": "2020-05-14T08:36:09.586415Z"
    }
   },
   "outputs": [],
   "source": [
    "val_set = 5\n",
    "\n",
    "trn_fold = [i for i in range(10) if i not in [val_set]]\n",
    "vld_fold = [val_set]\n",
    "\n",
    "trn_idx = df_fold.loc[df_fold['fold'].isin(trn_fold)].index\n",
    "vld_idx = df_fold.loc[df_fold['fold'].isin(vld_fold)].index"
   ]
  },
  {
   "cell_type": "code",
   "execution_count": 43,
   "metadata": {
    "ExecuteTime": {
     "end_time": "2020-05-14T08:36:10.366535Z",
     "start_time": "2020-05-14T08:36:10.342696Z"
    }
   },
   "outputs": [],
   "source": [
    "train_trans = transforms.Compose([\n",
    "    transforms.RandomSizedCrop(224),\n",
    "    transforms.RandomHorizontalFlip(),\n",
    "    transforms.ToTensor(),\n",
    "    #transforms.Normalize([0.485, 0.456, 0.406], [0.229, 0.224, 0.225])\n",
    "])\n",
    "\n",
    "valid_trans = transforms.Compose([\n",
    "    transforms.Scale(256),\n",
    "    transforms.CenterCrop(224),\n",
    "    transforms.ToTensor(),\n",
    "    #transforms.Normalize([0.485, 0.456, 0.406], [0.229, 0.224, 0.225])\n",
    "])\n",
    "\n",
    "#train_set = SeedlingDataset(train_data, data_dir + '/', transform = train_trans)\n",
    "#valid_set = SeedlingDataset(valid_data, data_dir + '/', transform = valid_trans)\n",
    "#test_set = SeedlingDataset(sample_submission, data_dir + 'test/', transform = valid_trans)\n",
    "train_set = SeedlingDataset(df_fold.loc[trn_idx], data_dir + '/', transform = train_trans)\n",
    "valid_set = SeedlingDataset(df_fold.loc[vld_idx], data_dir + '/', transform = valid_trans)\n",
    "\n",
    "\n",
    "train_loader = DataLoader(train_set, batch_size=batch_size, shuffle=True, num_workers=1)\n",
    "valid_loader = DataLoader(valid_set, batch_size=batch_size, shuffle=True, num_workers=1)\n",
    "#test_loader  = DataLoader(test_set, batch_size=batch_size, shuffle=False, num_workers=4)\n",
    "\n",
    "dataset_sizes = {\n",
    "    'train': len(train_loader.dataset), \n",
    "    'valid': len(valid_loader.dataset)\n",
    "}"
   ]
  },
  {
   "cell_type": "code",
   "execution_count": 36,
   "metadata": {
    "ExecuteTime": {
     "end_time": "2020-05-14T08:35:16.229200Z",
     "start_time": "2020-05-14T08:35:15.589381Z"
    }
   },
   "outputs": [],
   "source": [
    "import pretrainedmodels\n",
    "\n",
    "model_name = 'resnet50'\n",
    "backbone = pretrainedmodels.__dict__[model_name](pretrained='imagenet')\n",
    "in_features = backbone.last_linear.in_features\n",
    "backbone.last_linear = nn.Linear(in_features, len(label_list))"
   ]
  },
  {
   "cell_type": "code",
   "execution_count": 37,
   "metadata": {
    "ExecuteTime": {
     "end_time": "2020-05-14T08:35:17.094187Z",
     "start_time": "2020-05-14T08:35:17.033769Z"
    }
   },
   "outputs": [],
   "source": [
    "model = backbone.cuda()\n",
    "optimizer = torch.optim.Adam(model.parameters(), lr = 0.001)\n",
    "loss_fn = nn.CrossEntropyLoss()\n",
    "sheduler = torch.optim.lr_scheduler.ReduceLROnPlateau(optimizer,\n",
    "                                                     mode='max',\n",
    "                                                     verbose=True,\n",
    "                                                     patience=7,\n",
    "                                                     factor=0.5)"
   ]
  },
  {
   "cell_type": "code",
   "execution_count": 44,
   "metadata": {
    "ExecuteTime": {
     "end_time": "2020-05-14T08:36:13.382019Z",
     "start_time": "2020-05-14T08:36:13.219254Z"
    }
   },
   "outputs": [
    {
     "data": {
      "application/vnd.jupyter.widget-view+json": {
       "model_id": "09762e71efdb4a38860e8c5d7ba19db4",
       "version_major": 2,
       "version_minor": 0
      },
      "text/plain": [
       "HBox(children=(FloatProgress(value=0.0, max=328.0), HTML(value='')))"
      ]
     },
     "metadata": {},
     "output_type": "display_data"
    },
    {
     "name": "stdout",
     "output_type": "stream",
     "text": [
      "\n"
     ]
    },
    {
     "ename": "UnboundLocalError",
     "evalue": "Caught UnboundLocalError in DataLoader worker process 0.\nOriginal Traceback (most recent call last):\n  File \"/opt/conda/lib/python3.7/site-packages/torch/utils/data/_utils/worker.py\", line 178, in _worker_loop\n    data = fetcher.fetch(index)\n  File \"/opt/conda/lib/python3.7/site-packages/torch/utils/data/_utils/fetch.py\", line 44, in fetch\n    data = [self.dataset[idx] for idx in possibly_batched_index]\n  File \"/opt/conda/lib/python3.7/site-packages/torch/utils/data/_utils/fetch.py\", line 44, in <listcomp>\n    data = [self.dataset[idx] for idx in possibly_batched_index]\n  File \"<ipython-input-41-f22d07b346e3>\", line 19, in __getitem__\n    image = self.transform(image)\nUnboundLocalError: local variable 'image' referenced before assignment\n",
     "output_type": "error",
     "traceback": [
      "\u001b[0;31m---------------------------------------------------------------------------\u001b[0m",
      "\u001b[0;31mUnboundLocalError\u001b[0m                         Traceback (most recent call last)",
      "\u001b[0;32m<ipython-input-44-7fb9f9642a48>\u001b[0m in \u001b[0;36m<module>\u001b[0;34m\u001b[0m\n\u001b[1;32m      7\u001b[0m     \u001b[0mmodel\u001b[0m\u001b[0;34m.\u001b[0m\u001b[0mtrain\u001b[0m\u001b[0;34m(\u001b[0m\u001b[0;34m)\u001b[0m\u001b[0;34m\u001b[0m\u001b[0;34m\u001b[0m\u001b[0m\n\u001b[1;32m      8\u001b[0m \u001b[0;34m\u001b[0m\u001b[0m\n\u001b[0;32m----> 9\u001b[0;31m     \u001b[0;32mfor\u001b[0m \u001b[0minputs\u001b[0m\u001b[0;34m,\u001b[0m \u001b[0mtargets\u001b[0m \u001b[0;32min\u001b[0m \u001b[0mtqdm_notebook\u001b[0m\u001b[0;34m(\u001b[0m\u001b[0mtrain_loader\u001b[0m\u001b[0;34m)\u001b[0m\u001b[0;34m:\u001b[0m\u001b[0;34m\u001b[0m\u001b[0;34m\u001b[0m\u001b[0m\n\u001b[0m\u001b[1;32m     10\u001b[0m \u001b[0;34m\u001b[0m\u001b[0m\n\u001b[1;32m     11\u001b[0m         \u001b[0minputs\u001b[0m \u001b[0;34m=\u001b[0m \u001b[0minputs\u001b[0m\u001b[0;34m.\u001b[0m\u001b[0mcuda\u001b[0m\u001b[0;34m(\u001b[0m\u001b[0;34m)\u001b[0m\u001b[0;34m\u001b[0m\u001b[0;34m\u001b[0m\u001b[0m\n",
      "\u001b[0;32m/opt/conda/lib/python3.7/site-packages/tqdm/notebook.py\u001b[0m in \u001b[0;36m__iter__\u001b[0;34m(self, *args, **kwargs)\u001b[0m\n\u001b[1;32m    216\u001b[0m     \u001b[0;32mdef\u001b[0m \u001b[0m__iter__\u001b[0m\u001b[0;34m(\u001b[0m\u001b[0mself\u001b[0m\u001b[0;34m,\u001b[0m \u001b[0;34m*\u001b[0m\u001b[0margs\u001b[0m\u001b[0;34m,\u001b[0m \u001b[0;34m**\u001b[0m\u001b[0mkwargs\u001b[0m\u001b[0;34m)\u001b[0m\u001b[0;34m:\u001b[0m\u001b[0;34m\u001b[0m\u001b[0;34m\u001b[0m\u001b[0m\n\u001b[1;32m    217\u001b[0m         \u001b[0;32mtry\u001b[0m\u001b[0;34m:\u001b[0m\u001b[0;34m\u001b[0m\u001b[0;34m\u001b[0m\u001b[0m\n\u001b[0;32m--> 218\u001b[0;31m             \u001b[0;32mfor\u001b[0m \u001b[0mobj\u001b[0m \u001b[0;32min\u001b[0m \u001b[0msuper\u001b[0m\u001b[0;34m(\u001b[0m\u001b[0mtqdm_notebook\u001b[0m\u001b[0;34m,\u001b[0m \u001b[0mself\u001b[0m\u001b[0;34m)\u001b[0m\u001b[0;34m.\u001b[0m\u001b[0m__iter__\u001b[0m\u001b[0;34m(\u001b[0m\u001b[0;34m*\u001b[0m\u001b[0margs\u001b[0m\u001b[0;34m,\u001b[0m \u001b[0;34m**\u001b[0m\u001b[0mkwargs\u001b[0m\u001b[0;34m)\u001b[0m\u001b[0;34m:\u001b[0m\u001b[0;34m\u001b[0m\u001b[0;34m\u001b[0m\u001b[0m\n\u001b[0m\u001b[1;32m    219\u001b[0m                 \u001b[0;31m# return super(tqdm...) will not catch exception\u001b[0m\u001b[0;34m\u001b[0m\u001b[0;34m\u001b[0m\u001b[0;34m\u001b[0m\u001b[0m\n\u001b[1;32m    220\u001b[0m                 \u001b[0;32myield\u001b[0m \u001b[0mobj\u001b[0m\u001b[0;34m\u001b[0m\u001b[0;34m\u001b[0m\u001b[0m\n",
      "\u001b[0;32m/opt/conda/lib/python3.7/site-packages/tqdm/std.py\u001b[0m in \u001b[0;36m__iter__\u001b[0;34m(self)\u001b[0m\n\u001b[1;32m   1125\u001b[0m \u001b[0;34m\u001b[0m\u001b[0m\n\u001b[1;32m   1126\u001b[0m         \u001b[0;32mtry\u001b[0m\u001b[0;34m:\u001b[0m\u001b[0;34m\u001b[0m\u001b[0;34m\u001b[0m\u001b[0m\n\u001b[0;32m-> 1127\u001b[0;31m             \u001b[0;32mfor\u001b[0m \u001b[0mobj\u001b[0m \u001b[0;32min\u001b[0m \u001b[0miterable\u001b[0m\u001b[0;34m:\u001b[0m\u001b[0;34m\u001b[0m\u001b[0;34m\u001b[0m\u001b[0m\n\u001b[0m\u001b[1;32m   1128\u001b[0m                 \u001b[0;32myield\u001b[0m \u001b[0mobj\u001b[0m\u001b[0;34m\u001b[0m\u001b[0;34m\u001b[0m\u001b[0m\n\u001b[1;32m   1129\u001b[0m                 \u001b[0;31m# Update and possibly print the progressbar.\u001b[0m\u001b[0;34m\u001b[0m\u001b[0;34m\u001b[0m\u001b[0;34m\u001b[0m\u001b[0m\n",
      "\u001b[0;32m/opt/conda/lib/python3.7/site-packages/torch/utils/data/dataloader.py\u001b[0m in \u001b[0;36m__next__\u001b[0;34m(self)\u001b[0m\n\u001b[1;32m    343\u001b[0m \u001b[0;34m\u001b[0m\u001b[0m\n\u001b[1;32m    344\u001b[0m     \u001b[0;32mdef\u001b[0m \u001b[0m__next__\u001b[0m\u001b[0;34m(\u001b[0m\u001b[0mself\u001b[0m\u001b[0;34m)\u001b[0m\u001b[0;34m:\u001b[0m\u001b[0;34m\u001b[0m\u001b[0;34m\u001b[0m\u001b[0m\n\u001b[0;32m--> 345\u001b[0;31m         \u001b[0mdata\u001b[0m \u001b[0;34m=\u001b[0m \u001b[0mself\u001b[0m\u001b[0;34m.\u001b[0m\u001b[0m_next_data\u001b[0m\u001b[0;34m(\u001b[0m\u001b[0;34m)\u001b[0m\u001b[0;34m\u001b[0m\u001b[0;34m\u001b[0m\u001b[0m\n\u001b[0m\u001b[1;32m    346\u001b[0m         \u001b[0mself\u001b[0m\u001b[0;34m.\u001b[0m\u001b[0m_num_yielded\u001b[0m \u001b[0;34m+=\u001b[0m \u001b[0;36m1\u001b[0m\u001b[0;34m\u001b[0m\u001b[0;34m\u001b[0m\u001b[0m\n\u001b[1;32m    347\u001b[0m         \u001b[0;32mif\u001b[0m \u001b[0mself\u001b[0m\u001b[0;34m.\u001b[0m\u001b[0m_dataset_kind\u001b[0m \u001b[0;34m==\u001b[0m \u001b[0m_DatasetKind\u001b[0m\u001b[0;34m.\u001b[0m\u001b[0mIterable\u001b[0m \u001b[0;32mand\u001b[0m\u001b[0;31m \u001b[0m\u001b[0;31m\\\u001b[0m\u001b[0;34m\u001b[0m\u001b[0;34m\u001b[0m\u001b[0m\n",
      "\u001b[0;32m/opt/conda/lib/python3.7/site-packages/torch/utils/data/dataloader.py\u001b[0m in \u001b[0;36m_next_data\u001b[0;34m(self)\u001b[0m\n\u001b[1;32m    854\u001b[0m             \u001b[0;32melse\u001b[0m\u001b[0;34m:\u001b[0m\u001b[0;34m\u001b[0m\u001b[0;34m\u001b[0m\u001b[0m\n\u001b[1;32m    855\u001b[0m                 \u001b[0;32mdel\u001b[0m \u001b[0mself\u001b[0m\u001b[0;34m.\u001b[0m\u001b[0m_task_info\u001b[0m\u001b[0;34m[\u001b[0m\u001b[0midx\u001b[0m\u001b[0;34m]\u001b[0m\u001b[0;34m\u001b[0m\u001b[0;34m\u001b[0m\u001b[0m\n\u001b[0;32m--> 856\u001b[0;31m                 \u001b[0;32mreturn\u001b[0m \u001b[0mself\u001b[0m\u001b[0;34m.\u001b[0m\u001b[0m_process_data\u001b[0m\u001b[0;34m(\u001b[0m\u001b[0mdata\u001b[0m\u001b[0;34m)\u001b[0m\u001b[0;34m\u001b[0m\u001b[0;34m\u001b[0m\u001b[0m\n\u001b[0m\u001b[1;32m    857\u001b[0m \u001b[0;34m\u001b[0m\u001b[0m\n\u001b[1;32m    858\u001b[0m     \u001b[0;32mdef\u001b[0m \u001b[0m_try_put_index\u001b[0m\u001b[0;34m(\u001b[0m\u001b[0mself\u001b[0m\u001b[0;34m)\u001b[0m\u001b[0;34m:\u001b[0m\u001b[0;34m\u001b[0m\u001b[0;34m\u001b[0m\u001b[0m\n",
      "\u001b[0;32m/opt/conda/lib/python3.7/site-packages/torch/utils/data/dataloader.py\u001b[0m in \u001b[0;36m_process_data\u001b[0;34m(self, data)\u001b[0m\n\u001b[1;32m    879\u001b[0m         \u001b[0mself\u001b[0m\u001b[0;34m.\u001b[0m\u001b[0m_try_put_index\u001b[0m\u001b[0;34m(\u001b[0m\u001b[0;34m)\u001b[0m\u001b[0;34m\u001b[0m\u001b[0;34m\u001b[0m\u001b[0m\n\u001b[1;32m    880\u001b[0m         \u001b[0;32mif\u001b[0m \u001b[0misinstance\u001b[0m\u001b[0;34m(\u001b[0m\u001b[0mdata\u001b[0m\u001b[0;34m,\u001b[0m \u001b[0mExceptionWrapper\u001b[0m\u001b[0;34m)\u001b[0m\u001b[0;34m:\u001b[0m\u001b[0;34m\u001b[0m\u001b[0;34m\u001b[0m\u001b[0m\n\u001b[0;32m--> 881\u001b[0;31m             \u001b[0mdata\u001b[0m\u001b[0;34m.\u001b[0m\u001b[0mreraise\u001b[0m\u001b[0;34m(\u001b[0m\u001b[0;34m)\u001b[0m\u001b[0;34m\u001b[0m\u001b[0;34m\u001b[0m\u001b[0m\n\u001b[0m\u001b[1;32m    882\u001b[0m         \u001b[0;32mreturn\u001b[0m \u001b[0mdata\u001b[0m\u001b[0;34m\u001b[0m\u001b[0;34m\u001b[0m\u001b[0m\n\u001b[1;32m    883\u001b[0m \u001b[0;34m\u001b[0m\u001b[0m\n",
      "\u001b[0;32m/opt/conda/lib/python3.7/site-packages/torch/_utils.py\u001b[0m in \u001b[0;36mreraise\u001b[0;34m(self)\u001b[0m\n\u001b[1;32m    392\u001b[0m             \u001b[0;31m# (https://bugs.python.org/issue2651), so we work around it.\u001b[0m\u001b[0;34m\u001b[0m\u001b[0;34m\u001b[0m\u001b[0;34m\u001b[0m\u001b[0m\n\u001b[1;32m    393\u001b[0m             \u001b[0mmsg\u001b[0m \u001b[0;34m=\u001b[0m \u001b[0mKeyErrorMessage\u001b[0m\u001b[0;34m(\u001b[0m\u001b[0mmsg\u001b[0m\u001b[0;34m)\u001b[0m\u001b[0;34m\u001b[0m\u001b[0;34m\u001b[0m\u001b[0m\n\u001b[0;32m--> 394\u001b[0;31m         \u001b[0;32mraise\u001b[0m \u001b[0mself\u001b[0m\u001b[0;34m.\u001b[0m\u001b[0mexc_type\u001b[0m\u001b[0;34m(\u001b[0m\u001b[0mmsg\u001b[0m\u001b[0;34m)\u001b[0m\u001b[0;34m\u001b[0m\u001b[0;34m\u001b[0m\u001b[0m\n\u001b[0m",
      "\u001b[0;31mUnboundLocalError\u001b[0m: Caught UnboundLocalError in DataLoader worker process 0.\nOriginal Traceback (most recent call last):\n  File \"/opt/conda/lib/python3.7/site-packages/torch/utils/data/_utils/worker.py\", line 178, in _worker_loop\n    data = fetcher.fetch(index)\n  File \"/opt/conda/lib/python3.7/site-packages/torch/utils/data/_utils/fetch.py\", line 44, in fetch\n    data = [self.dataset[idx] for idx in possibly_batched_index]\n  File \"/opt/conda/lib/python3.7/site-packages/torch/utils/data/_utils/fetch.py\", line 44, in <listcomp>\n    data = [self.dataset[idx] for idx in possibly_batched_index]\n  File \"<ipython-input-41-f22d07b346e3>\", line 19, in __getitem__\n    image = self.transform(image)\nUnboundLocalError: local variable 'image' referenced before assignment\n"
     ]
    }
   ],
   "source": [
    "best_score = -1\n",
    "EPOCH = 100\n",
    "#model = torch.nn.DataParallel(model, device_ids=[1,2]).cuda()\n",
    "\n",
    "for epoch in range(EPOCH):\n",
    "    train_loss = []\n",
    "    model.train()\n",
    "    \n",
    "    for inputs, targets in tqdm_notebook(train_loader):\n",
    "        \n",
    "        inputs = inputs.cuda()\n",
    "        targets = targets.cuda()\n",
    "        \n",
    "        result = model(inputs)\n",
    "        \n",
    "        loss = loss_fn(result, targets)\n",
    "        loss.backward()\n",
    "        \n",
    "        optimizer.step()\n",
    "        optimizer.zero_grad()\n",
    "        train_loss.append(loss.item())\n",
    "        \n",
    "    val_loss = []\n",
    "    val_true = []\n",
    "    val_pred = []\n",
    "    \n",
    "    model.eval()\n",
    "    \n",
    "    with torch.no_grad():\n",
    "        \n",
    "        for vld_inputs, vld_targets in tqdm_notebook(valid_loader):\n",
    "            \n",
    "            vld_inputs = vld_inputs.cuda()\n",
    "            vld_targets = vld_targets.cuda()\n",
    "            \n",
    "            result = model(vld_inputs)\n",
    "            \n",
    "            val_loss.append(loss.item())\n",
    "            \n",
    "            result = result.cpu().argmax(dim=1).data.numpy()\n",
    "            \n",
    "            val_true.append(vld_targets.cpu().numpy())\n",
    "            #val_pred.append(np.stack([result], axis=1))\n",
    "            val_pred.append(result)\n",
    "            \n",
    "    val_true = np.concatenate(val_true)\n",
    "    val_pred = np.concatenate(val_pred)\n",
    "    \n",
    "    val_loss = np.mean(val_loss)\n",
    "    train_loss = np.mean(train_loss)\n",
    "    \n",
    "    score = recall_score(val_true, val_pred, average='macro')\n",
    "    \n",
    "\n",
    "    print(f'EPOCH:{epoch}, train_loss: {train_loss:.5f}, val_loss:{val_loss:.5f}, recall:{score:.5f}')\n",
    "    if score > best_score:\n",
    "        best_score = score\n",
    "\n",
    "        state_dict = model.cpu().state_dict()\n",
    "        model = model.cuda()\n",
    "        torch.save(state_dict, 'model_feature.pt')\n",
    "        torch.save(model,'model_total.pt')"
   ]
  },
  {
   "cell_type": "code",
   "execution_count": 23,
   "metadata": {
    "ExecuteTime": {
     "end_time": "2020-05-14T08:23:14.959417Z",
     "start_time": "2020-05-14T08:23:14.714806Z"
    }
   },
   "outputs": [
    {
     "ename": "TypeError",
     "evalue": "new(): data must be a sequence (got JpegImageFile)",
     "output_type": "error",
     "traceback": [
      "\u001b[0;31m---------------------------------------------------------------------------\u001b[0m",
      "\u001b[0;31mTypeError\u001b[0m                                 Traceback (most recent call last)",
      "\u001b[0;32m<ipython-input-23-b62c118a645b>\u001b[0m in \u001b[0;36m<module>\u001b[0;34m\u001b[0m\n\u001b[1;32m     13\u001b[0m \u001b[0mplt\u001b[0m\u001b[0;34m.\u001b[0m\u001b[0mimshow\u001b[0m\u001b[0;34m(\u001b[0m\u001b[0mimg\u001b[0m\u001b[0;34m)\u001b[0m\u001b[0;34m\u001b[0m\u001b[0;34m\u001b[0m\u001b[0m\n\u001b[1;32m     14\u001b[0m \u001b[0;34m\u001b[0m\u001b[0m\n\u001b[0;32m---> 15\u001b[0;31m \u001b[0mimg\u001b[0m \u001b[0;34m=\u001b[0m \u001b[0mtorch\u001b[0m\u001b[0;34m.\u001b[0m\u001b[0mFloatTensor\u001b[0m\u001b[0;34m(\u001b[0m\u001b[0mimg\u001b[0m\u001b[0;34m)\u001b[0m\u001b[0;34m.\u001b[0m\u001b[0mpermute\u001b[0m\u001b[0;34m(\u001b[0m\u001b[0;36m2\u001b[0m\u001b[0;34m,\u001b[0m\u001b[0;36m1\u001b[0m\u001b[0;34m,\u001b[0m\u001b[0;36m0\u001b[0m\u001b[0;34m)\u001b[0m\u001b[0;34m.\u001b[0m\u001b[0munsqueeze\u001b[0m\u001b[0;34m(\u001b[0m\u001b[0;36m0\u001b[0m\u001b[0;34m)\u001b[0m\u001b[0;34m\u001b[0m\u001b[0;34m\u001b[0m\u001b[0m\n\u001b[0m\u001b[1;32m     16\u001b[0m \u001b[0;34m\u001b[0m\u001b[0m\n\u001b[1;32m     17\u001b[0m \u001b[0mresult\u001b[0m \u001b[0;34m=\u001b[0m \u001b[0mmodel\u001b[0m\u001b[0;34m.\u001b[0m\u001b[0mcuda\u001b[0m\u001b[0;34m(\u001b[0m\u001b[0;34m)\u001b[0m\u001b[0;34m(\u001b[0m\u001b[0mimg\u001b[0m\u001b[0;34m.\u001b[0m\u001b[0mcuda\u001b[0m\u001b[0;34m(\u001b[0m\u001b[0;34m)\u001b[0m\u001b[0;34m)\u001b[0m\u001b[0;34m\u001b[0m\u001b[0;34m\u001b[0m\u001b[0m\n",
      "\u001b[0;31mTypeError\u001b[0m: new(): data must be a sequence (got JpegImageFile)"
     ]
    },
    {
     "data": {
      "image/png": "[encoded data removed]",
      "text/plain": [
       "<Figure size 432x288 with 1 Axes>"
      ]
     },
     "metadata": {
      "needs_background": "light"
     },
     "output_type": "display_data"
    }
   ],
   "source": [
    "# 파일 infer\n",
    "#filepath = './model.pt'\n",
    "\n",
    "#tt.load_state_dict(torch.load(filepath))\n",
    "#tt.eval()\n",
    "\n",
    "\n",
    "#img = cv2.imread('./data/3.jpg').astype(np.uint8)\n",
    "#img = cv2.cvtColor(img, cv2.COLOR_BGR2RGB)\n",
    "\n",
    "img = Image.open('./data/3.jpg')\n",
    "\n",
    "plt.imshow(img)\n",
    "\n",
    "img = torch.FloatTensor(img).permute(2,1,0).unsqueeze(0)\n",
    "\n",
    "result = model.cuda()(img.cuda())\n",
    "torch.max(result,1)[1].cpu().numpy()\n",
    "num_to_class[torch.max(result,1)[1].cpu().numpy()[0]]"
   ]
  },
  {
   "cell_type": "code",
   "execution_count": 30,
   "metadata": {
    "ExecuteTime": {
     "end_time": "2020-05-14T08:25:15.045617Z",
     "start_time": "2020-05-14T08:25:14.999031Z"
    }
   },
   "outputs": [
    {
     "data": {
      "image/png": "[encoded data removed]",
      "text/plain": [
       "<PIL.Image.Image image mode=RGB size=224x224 at 0x7FEE842DF7D0>"
      ]
     },
     "execution_count": 30,
     "metadata": {},
     "output_type": "execute_result"
    }
   ],
   "source": [
    "Image.open('./data/3.jpg').convert('RGB')"
   ]
  },
  {
   "cell_type": "code",
   "execution_count": 25,
   "metadata": {
    "ExecuteTime": {
     "end_time": "2020-05-14T08:24:06.192138Z",
     "start_time": "2020-05-14T08:24:06.184345Z"
    }
   },
   "outputs": [
    {
     "data": {
      "text/plain": [
       "array([20, 13, 15, ..., 15, 19, 31])"
      ]
     },
     "execution_count": 25,
     "metadata": {},
     "output_type": "execute_result"
    }
   ],
   "source": [
    "val_true"
   ]
  },
  {
   "cell_type": "code",
   "execution_count": 26,
   "metadata": {
    "ExecuteTime": {
     "end_time": "2020-05-14T08:24:10.096061Z",
     "start_time": "2020-05-14T08:24:10.087946Z"
    }
   },
   "outputs": [
    {
     "data": {
      "text/plain": [
       "array([20, 13, 15, ..., 15, 19, 31])"
      ]
     },
     "execution_count": 26,
     "metadata": {},
     "output_type": "execute_result"
    }
   ],
   "source": [
    "val_pred"
   ]
  },
  {
   "cell_type": "code",
   "execution_count": null,
   "metadata": {
    "ExecuteTime": {
     "end_time": "2020-05-14T08:24:43.099552Z",
     "start_time": "2020-05-14T08:24:43.057107Z"
    }
   },
   "outputs": [],
   "source": []
  },
  {
   "cell_type": "code",
   "execution_count": null,
   "metadata": {},
   "outputs": [],
   "source": []
  },
  {
   "cell_type": "code",
   "execution_count": null,
   "metadata": {},
   "outputs": [],
   "source": []
  }
 ],
 "metadata": {
  "kernelspec": {
   "display_name": "Python 3",
   "language": "python",
   "name": "python3"
  },
  "language_info": {
   "codemirror_mode": {
    "name": "ipython",
    "version": 3
   },
   "file_extension": ".py",
   "mimetype": "text/x-python",
   "name": "python",
   "nbconvert_exporter": "python",
   "pygments_lexer": "ipython3",
   "version": "3.7.6"
  },
  "toc": {
   "base_numbering": 1,
   "nav_menu": {},
   "number_sections": false,
   "sideBar": true,
   "skip_h1_title": false,
   "title_cell": "Table of Contents",
   "title_sidebar": "Contents",
   "toc_cell": false,
   "toc_position": {},
   "toc_section_display": true,
   "toc_window_display": false
  }
 },
 "nbformat": 4,
 "nbformat_minor": 2
}
