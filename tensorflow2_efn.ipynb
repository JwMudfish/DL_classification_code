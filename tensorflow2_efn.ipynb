{
 "cells": [
  {
   "cell_type": "code",
   "execution_count": 8,
   "metadata": {
    "ExecuteTime": {
     "end_time": "2020-06-10T08:25:07.758864Z",
     "start_time": "2020-06-10T08:25:07.750935Z"
    }
   },
   "outputs": [],
   "source": [
    "import tensorflow as tf\n",
    "from tensorflow import keras\n",
    "import pathlib\n",
    "import random\n",
    "import os\n",
    "import datetime\n",
    "import time\n",
    "from efficientnet.tfkeras import EfficientNetB1, preprocess_input"
   ]
  },
  {
   "cell_type": "code",
   "execution_count": 2,
   "metadata": {
    "ExecuteTime": {
     "end_time": "2020-06-10T08:23:38.676206Z",
     "start_time": "2020-06-10T08:23:38.198016Z"
    }
   },
   "outputs": [
    {
     "ename": "IndexError",
     "evalue": "list index out of range",
     "output_type": "error",
     "traceback": [
      "\u001b[0;31m---------------------------------------------------------------------------\u001b[0m",
      "\u001b[0;31mIndexError\u001b[0m                                Traceback (most recent call last)",
      "\u001b[0;32m<ipython-input-2-c6097d427ec6>\u001b[0m in \u001b[0;36m<module>\u001b[0;34m\u001b[0m\n\u001b[1;32m      6\u001b[0m \u001b[0;32mif\u001b[0m \u001b[0mgpus\u001b[0m\u001b[0;34m:\u001b[0m\u001b[0;34m\u001b[0m\u001b[0;34m\u001b[0m\u001b[0m\n\u001b[1;32m      7\u001b[0m     \u001b[0;32mtry\u001b[0m\u001b[0;34m:\u001b[0m\u001b[0;34m\u001b[0m\u001b[0;34m\u001b[0m\u001b[0m\n\u001b[0;32m----> 8\u001b[0;31m         \u001b[0mtf\u001b[0m\u001b[0;34m.\u001b[0m\u001b[0mconfig\u001b[0m\u001b[0;34m.\u001b[0m\u001b[0mexperimental\u001b[0m\u001b[0;34m.\u001b[0m\u001b[0mset_memory_growth\u001b[0m\u001b[0;34m(\u001b[0m\u001b[0mgpus\u001b[0m\u001b[0;34m[\u001b[0m\u001b[0;36m3\u001b[0m\u001b[0;34m]\u001b[0m\u001b[0;34m,\u001b[0m \u001b[0;32mTrue\u001b[0m\u001b[0;34m)\u001b[0m\u001b[0;34m\u001b[0m\u001b[0;34m\u001b[0m\u001b[0m\n\u001b[0m\u001b[1;32m      9\u001b[0m     \u001b[0;32mexcept\u001b[0m \u001b[0mRuntimeError\u001b[0m \u001b[0;32mas\u001b[0m \u001b[0me\u001b[0m\u001b[0;34m:\u001b[0m\u001b[0;34m\u001b[0m\u001b[0;34m\u001b[0m\u001b[0m\n\u001b[1;32m     10\u001b[0m         \u001b[0mprint\u001b[0m\u001b[0;34m(\u001b[0m\u001b[0me\u001b[0m\u001b[0;34m)\u001b[0m\u001b[0;34m\u001b[0m\u001b[0;34m\u001b[0m\u001b[0m\n",
      "\u001b[0;31mIndexError\u001b[0m: list index out of range"
     ]
    }
   ],
   "source": [
    "import os\n",
    "os.environ[\"CUDA_VISIBLE_DEVICES\"]=\"1\"\n",
    "\n",
    "AUTOTUNE = tf.data.experimental.AUTOTUNE\n",
    "gpus = tf.config.experimental.list_physical_devices('GPU')\n",
    "if gpus:\n",
    "    try:\n",
    "        tf.config.experimental.set_memory_growth(gpus[3], True)\n",
    "    except RuntimeError as e:\n",
    "        print(e)\n"
   ]
  },
  {
   "cell_type": "code",
   "execution_count": 6,
   "metadata": {
    "ExecuteTime": {
     "end_time": "2020-06-10T08:23:50.134492Z",
     "start_time": "2020-06-10T08:23:49.137142Z"
    }
   },
   "outputs": [],
   "source": [
    "dataset_name = 'em24'\n",
    "\n",
    "train_dataset_path = '../datasets/emart24/cls_train/train'\n",
    "valid_dataset_path = '../datasets/emart24/cls_train/validation'\n",
    "\n",
    "BATCH_SIZE = 32\n",
    "IMG_SIZE = 224\n",
    "NUM_EPOCHS = 50\n",
    "EARLY_STOP_PATIENCE = 5\n",
    "TRAIN_STEP_PER_EPOCH = tf.math.ceil(train_images_len / BATCH_SIZE).numpy()\n",
    "VALID_STEP_PER_EPOCH = tf.math.ceil(valid_images_len / BATCH_SIZE).numpy()\n",
    "\n",
    "saved_path = '../em24_project/classification/model/'\n",
    "\n",
    "time = datetime.datetime.now().strftime(\"%Y.%m.%d_%H:%M\") + '_tf2'\n",
    "weight_file_name = '{epoch:02d}-{val_accuracy:.2f}.hdf5'\n",
    "checkpoint_path = saved_path + dataset_name + '/' + time + '/' + weight_file_name\n",
    "\n",
    "\n",
    "if not(os.path.isdir(saved_path + dataset_name + '/' + time)):\n",
    "    os.makedirs(os.path.join(saved_path + dataset_name + '/' + time))\n",
    "else:\n",
    "    pass"
   ]
  },
  {
   "cell_type": "code",
   "execution_count": 14,
   "metadata": {
    "ExecuteTime": {
     "end_time": "2020-06-10T09:07:16.955115Z",
     "start_time": "2020-06-10T09:07:16.927418Z"
    }
   },
   "outputs": [],
   "source": [
    "def basic_processing(img_path, is_training):\n",
    "    img_path = pathlib.Path(img_path)\n",
    "\n",
    "    images = list(img_path.glob('*/*'))\n",
    "    images = [str(path) for path in images]\n",
    "    len_images = len(images)\n",
    "\n",
    "    if is_training:\n",
    "        random.shuffle(images)\n",
    "\n",
    "    labels = sorted(item.name for item in img_path.glob('*/') if item.is_dir())\n",
    "    labels_len = len(labels)\n",
    "    labels = dict((name, index) for index, name in enumerate(labels))\n",
    "    labels = [labels[pathlib.Path(path).parent.name] for path in images]\n",
    "    labels = tf.keras.utils.to_categorical(labels, num_classes=labels_len, dtype='float32')\n",
    "\n",
    "    return images, labels, len_images, labels_len\n",
    "\n",
    "def preprocess_image(image):\n",
    "    #image = tf.image.decode_jpeg(image, channels=3)\n",
    "    #image = tf.image.resize(image, [224, 224])\n",
    "    #image = keras.applications.xception.preprocess_input(image)  ## 수정해야함\n",
    "\n",
    "    image = tf.image.decode_jpeg(image, channels=3)\n",
    "    image = tf.image.resize(image, [224, 224])\n",
    "    image = preprocess_input(image)\n",
    "    return image\n",
    "\n",
    "# 이미지 path -> tensor\n",
    "def load_and_preprocess_image(path):\n",
    "    image = tf.io.read_file(path)\n",
    "    \n",
    "    return preprocess_image(image)\n",
    "\n",
    "# tf dataset 만들기\n",
    "def make_tf_dataset(images, labels):\n",
    "    image_ds = tf.data.Dataset.from_tensor_slices(images)\n",
    "    image_ds = image_ds.map(load_and_preprocess_image, num_parallel_calls=AUTOTUNE)\n",
    "\n",
    "    lable_ds = tf.data.Dataset.from_tensor_slices(tf.cast(labels, tf.float32))\n",
    "\n",
    "    image_label_ds = tf.data.Dataset.zip((image_ds, lable_ds))\n",
    "\n",
    "    return image_label_ds"
   ]
  },
  {
   "cell_type": "code",
   "execution_count": 15,
   "metadata": {
    "ExecuteTime": {
     "end_time": "2020-06-10T09:07:19.414464Z",
     "start_time": "2020-06-10T09:07:18.321809Z"
    }
   },
   "outputs": [],
   "source": [
    "train_images, train_labels, train_images_len, train_labels_len = basic_processing(train_dataset_path, True)\n",
    "valid_images, valid_labels, valid_images_len, valid_labels_len = basic_processing(valid_dataset_path, False)"
   ]
  },
  {
   "cell_type": "code",
   "execution_count": 16,
   "metadata": {
    "ExecuteTime": {
     "end_time": "2020-06-10T09:07:21.336995Z",
     "start_time": "2020-06-10T09:07:20.037257Z"
    }
   },
   "outputs": [],
   "source": [
    "train_ds = make_tf_dataset(train_images, train_labels)\n",
    "valid_ds = make_tf_dataset(valid_images, valid_labels)\n",
    "\n",
    "train_ds = train_ds.repeat().batch(BATCH_SIZE).prefetch(tf.data.experimental.AUTOTUNE) # tf.data.experimental.AUTOTUNE\n",
    "valid_ds = valid_ds.repeat().batch(BATCH_SIZE).prefetch(tf.data.experimental.AUTOTUNE)"
   ]
  },
  {
   "cell_type": "code",
   "execution_count": null,
   "metadata": {
    "ExecuteTime": {
     "end_time": "2020-06-10T08:51:05.837868Z",
     "start_time": "2020-06-10T08:51:03.861209Z"
    }
   },
   "outputs": [],
   "source": [
    "base_model = keras.applications.xception.Xception(input_shape=(IMG_SIZE, IMG_SIZE, 3),\n",
    "                                                  weights=\"imagenet\",\n",
    "                                                  include_top=False)\n",
    "\n",
    "avg = tf.keras.layers.GlobalAveragePooling2D()(base_model.output)\n",
    "output = tf.keras.layers.Dense(train_labels_len, activation=\"softmax\")(avg)\n",
    "model = tf.keras.Model(inputs=base_model.input, outputs=output)\n",
    "\n",
    "\n",
    "model = Sequential()\n",
    "model.add(EfficientNetB0(include_top=False, pooling='avg', weights='imagenet', input_shape=(IMG_SIZE, IMG_SIZE, 3)))\n",
    "model.add(Dense(len(CLASS_NAMES), activation='softmax'))\n",
    "model.layers[0].trainable = True\n",
    "model.compile(optimizer='adam', loss='categorical_crossentropy', metrics=['accuracy'])"
   ]
  },
  {
   "cell_type": "code",
   "execution_count": 17,
   "metadata": {
    "ExecuteTime": {
     "end_time": "2020-06-10T09:07:34.516664Z",
     "start_time": "2020-06-10T09:07:30.815015Z"
    }
   },
   "outputs": [],
   "source": [
    "base_model = EfficientNetB1(input_shape=(IMG_SIZE, IMG_SIZE, 3),\n",
    "                            weights=\"imagenet\",\n",
    "                            include_top=False)\n",
    "avg = tf.keras.layers.GlobalAveragePooling2D()(base_model.output)\n",
    "output = tf.keras.layers.Dense(train_labels_len, activation=\"softmax\")(avg)\n",
    "model = tf.keras.Model(inputs=base_model.input, outputs=output)\n",
    "\n",
    "\n",
    "for layer in base_model.layers:\n",
    "    layer.trainable = True\n",
    "\n",
    "\n",
    "LR_INIT = 0.000001\n",
    "LR_MAX = 0.0002\n",
    "LR_MIN = LR_INIT\n",
    "RAMUP_EPOCH = 4\n",
    "EXP_DECAY = 0.9\n",
    "\n",
    "def lr_schedule_fn(epoch):\n",
    "    if epoch < RAMUP_EPOCH:\n",
    "        lr = (LR_MAX - LR_MIN) / RAMUP_EPOCH * epoch + LR_INIT\n",
    "    else:\n",
    "        lr = (LR_MAX - LR_MIN) * EXP_DECAY**(epoch - RAMUP_EPOCH)\n",
    "    return lr    \n",
    "\n",
    "\n",
    "#optimizer = tf.keras.optimizers.SGD(lr=0.01, decay=1e-6, momentum=0.9, nesterov=True)\n",
    "optimizer = tf.keras.optimizers.Adam(LR_INIT)\n",
    "\n",
    "\n",
    "#model.compile(loss=\"categorical_crossentropy\", optimizer=optimizer, metrics=[\"accuracy\"])\n",
    "model.compile(loss=tf.keras.losses.CategoricalCrossentropy(label_smoothing=0.1, \n",
    "                                                           optimizer=optimizer, \n",
    "                                                           metrics=[\"accuracy\"])\n",
    "\n",
    "\n",
    "\n",
    "lr_callback = keras.callbacks.LearningRateScheduler(lr_schedule_fn)\n",
    "cb_early_stopper = tf.keras.callbacks.EarlyStopping(monitor='val_loss', patience=3)\n",
    "#checkpoint_path = saved_path + dataset_name + '/' + time + '/' + weight_file_name\n",
    "cb_checkpointer = tf.keras.callbacks.ModelCheckpoint(filepath=checkpoint_path,\n",
    "                                                     monitor='val_accuracy',\n",
    "                                                     save_best_only=True,\n",
    "                                                     mode='auto')"
   ]
  },
  {
   "cell_type": "code",
   "execution_count": 18,
   "metadata": {
    "ExecuteTime": {
     "end_time": "2020-06-10T14:41:35.377320Z",
     "start_time": "2020-06-10T09:07:39.039950Z"
    }
   },
   "outputs": [
    {
     "name": "stdout",
     "output_type": "stream",
     "text": [
      "Train for 1480.0 steps, validate for 162.0 steps\n",
      "Epoch 1/50\n",
      "1480/1480 [==============================] - 414s 280ms/step - loss: 3.5314 - accuracy: 0.0518 - val_loss: 3.4011 - val_accuracy: 0.0899\n",
      "Epoch 2/50\n",
      "1480/1480 [==============================] - 401s 271ms/step - loss: 3.3075 - accuracy: 0.1421 - val_loss: 3.1432 - val_accuracy: 0.2562\n",
      "Epoch 3/50\n",
      "1480/1480 [==============================] - 402s 272ms/step - loss: 3.0511 - accuracy: 0.3044 - val_loss: 2.8305 - val_accuracy: 0.4585\n",
      "Epoch 4/50\n",
      "1480/1480 [==============================] - 402s 272ms/step - loss: 2.7355 - accuracy: 0.4842 - val_loss: 2.4505 - val_accuracy: 0.6316\n",
      "Epoch 5/50\n",
      "1480/1480 [==============================] - 403s 273ms/step - loss: 2.3751 - accuracy: 0.6321 - val_loss: 2.0435 - val_accuracy: 0.7523\n",
      "Epoch 6/50\n",
      "1480/1480 [==============================] - 403s 272ms/step - loss: 1.9984 - accuracy: 0.7384 - val_loss: 1.6450 - val_accuracy: 0.8360\n",
      "Epoch 7/50\n",
      "1480/1480 [==============================] - 403s 272ms/step - loss: 1.6305 - accuracy: 0.8144 - val_loss: 1.2661 - val_accuracy: 0.8899\n",
      "Epoch 8/50\n",
      "1480/1480 [==============================] - 403s 272ms/step - loss: 1.2891 - accuracy: 0.8686 - val_loss: 0.9385 - val_accuracy: 0.9248\n",
      "Epoch 9/50\n",
      "1480/1480 [==============================] - 403s 272ms/step - loss: 0.9944 - accuracy: 0.9045 - val_loss: 0.6765 - val_accuracy: 0.9495\n",
      "Epoch 10/50\n",
      "1480/1480 [==============================] - 402s 271ms/step - loss: 0.7612 - accuracy: 0.9263 - val_loss: 0.4818 - val_accuracy: 0.9628\n",
      "Epoch 11/50\n",
      "1480/1480 [==============================] - 402s 272ms/step - loss: 0.5863 - accuracy: 0.9396 - val_loss: 0.3483 - val_accuracy: 0.9732\n",
      "Epoch 12/50\n",
      "1480/1480 [==============================] - 401s 271ms/step - loss: 0.4586 - accuracy: 0.9518 - val_loss: 0.2512 - val_accuracy: 0.9805\n",
      "Epoch 13/50\n",
      "1480/1480 [==============================] - 400s 270ms/step - loss: 0.3614 - accuracy: 0.9606 - val_loss: 0.1863 - val_accuracy: 0.9846\n",
      "Epoch 14/50\n",
      "1480/1480 [==============================] - 401s 271ms/step - loss: 0.2871 - accuracy: 0.9660 - val_loss: 0.1412 - val_accuracy: 0.9871\n",
      "Epoch 15/50\n",
      "1480/1480 [==============================] - 401s 271ms/step - loss: 0.2368 - accuracy: 0.9722 - val_loss: 0.1105 - val_accuracy: 0.9890\n",
      "Epoch 16/50\n",
      "1480/1480 [==============================] - 402s 271ms/step - loss: 0.1962 - accuracy: 0.9758 - val_loss: 0.0874 - val_accuracy: 0.9905\n",
      "Epoch 17/50\n",
      "1480/1480 [==============================] - 399s 270ms/step - loss: 0.1668 - accuracy: 0.9793 - val_loss: 0.0711 - val_accuracy: 0.9904\n",
      "Epoch 18/50\n",
      "1480/1480 [==============================] - 401s 271ms/step - loss: 0.1407 - accuracy: 0.9821 - val_loss: 0.0589 - val_accuracy: 0.9917\n",
      "Epoch 19/50\n",
      "1480/1480 [==============================] - 400s 270ms/step - loss: 0.1221 - accuracy: 0.9839 - val_loss: 0.0498 - val_accuracy: 0.9923\n",
      "Epoch 20/50\n",
      "1480/1480 [==============================] - 400s 271ms/step - loss: 0.1072 - accuracy: 0.9851 - val_loss: 0.0427 - val_accuracy: 0.9934\n",
      "Epoch 21/50\n",
      "1480/1480 [==============================] - 401s 271ms/step - loss: 0.0942 - accuracy: 0.9871 - val_loss: 0.0376 - val_accuracy: 0.9940\n",
      "Epoch 22/50\n",
      "1480/1480 [==============================] - 400s 270ms/step - loss: 0.0834 - accuracy: 0.9881 - val_loss: 0.0331 - val_accuracy: 0.9942\n",
      "Epoch 23/50\n",
      "1480/1480 [==============================] - 401s 271ms/step - loss: 0.0747 - accuracy: 0.9898 - val_loss: 0.0298 - val_accuracy: 0.9946\n",
      "Epoch 24/50\n",
      "1480/1480 [==============================] - 401s 271ms/step - loss: 0.0670 - accuracy: 0.9899 - val_loss: 0.0269 - val_accuracy: 0.9948\n",
      "Epoch 25/50\n",
      "1480/1480 [==============================] - 401s 271ms/step - loss: 0.0612 - accuracy: 0.9914 - val_loss: 0.0247 - val_accuracy: 0.9952\n",
      "Epoch 26/50\n",
      "1480/1480 [==============================] - 400s 270ms/step - loss: 0.0550 - accuracy: 0.9914 - val_loss: 0.0225 - val_accuracy: 0.9958\n",
      "Epoch 27/50\n",
      "1480/1480 [==============================] - 399s 269ms/step - loss: 0.0511 - accuracy: 0.9924 - val_loss: 0.0209 - val_accuracy: 0.9956\n",
      "Epoch 28/50\n",
      "1480/1480 [==============================] - 399s 270ms/step - loss: 0.0459 - accuracy: 0.9932 - val_loss: 0.0195 - val_accuracy: 0.9956\n",
      "Epoch 29/50\n",
      "1480/1480 [==============================] - 399s 269ms/step - loss: 0.0429 - accuracy: 0.9935 - val_loss: 0.0184 - val_accuracy: 0.9956\n",
      "Epoch 30/50\n",
      "1480/1480 [==============================] - 399s 270ms/step - loss: 0.0385 - accuracy: 0.9949 - val_loss: 0.0173 - val_accuracy: 0.9958\n",
      "Epoch 31/50\n",
      "1480/1480 [==============================] - 400s 270ms/step - loss: 0.0362 - accuracy: 0.9947 - val_loss: 0.0164 - val_accuracy: 0.9956\n",
      "Epoch 32/50\n",
      "1480/1480 [==============================] - 400s 270ms/step - loss: 0.0332 - accuracy: 0.9952 - val_loss: 0.0156 - val_accuracy: 0.9958\n",
      "Epoch 33/50\n",
      "1480/1480 [==============================] - 400s 271ms/step - loss: 0.0309 - accuracy: 0.9953 - val_loss: 0.0150 - val_accuracy: 0.9959\n",
      "Epoch 34/50\n",
      "1480/1480 [==============================] - 400s 270ms/step - loss: 0.0281 - accuracy: 0.9965 - val_loss: 0.0146 - val_accuracy: 0.9959\n",
      "Epoch 35/50\n",
      "1480/1480 [==============================] - 400s 270ms/step - loss: 0.0262 - accuracy: 0.9966 - val_loss: 0.0140 - val_accuracy: 0.9959\n",
      "Epoch 36/50\n",
      "1480/1480 [==============================] - 401s 271ms/step - loss: 0.0243 - accuracy: 0.9970 - val_loss: 0.0134 - val_accuracy: 0.9961\n",
      "Epoch 37/50\n",
      "1480/1480 [==============================] - 401s 271ms/step - loss: 0.0227 - accuracy: 0.9971 - val_loss: 0.0129 - val_accuracy: 0.9965\n",
      "Epoch 38/50\n",
      "1480/1480 [==============================] - 401s 271ms/step - loss: 0.0212 - accuracy: 0.9973 - val_loss: 0.0125 - val_accuracy: 0.9969\n",
      "Epoch 39/50\n",
      "1480/1480 [==============================] - 397s 268ms/step - loss: 0.0201 - accuracy: 0.9974 - val_loss: 0.0121 - val_accuracy: 0.9969\n",
      "Epoch 40/50\n",
      "1480/1480 [==============================] - 397s 269ms/step - loss: 0.0185 - accuracy: 0.9978 - val_loss: 0.0118 - val_accuracy: 0.9969\n",
      "Epoch 41/50\n",
      "1480/1480 [==============================] - 399s 270ms/step - loss: 0.0176 - accuracy: 0.9977 - val_loss: 0.0116 - val_accuracy: 0.9969\n",
      "Epoch 42/50\n",
      "1480/1480 [==============================] - 401s 271ms/step - loss: 0.0169 - accuracy: 0.9979 - val_loss: 0.0115 - val_accuracy: 0.9973\n",
      "Epoch 43/50\n",
      "1480/1480 [==============================] - 399s 269ms/step - loss: 0.0152 - accuracy: 0.9981 - val_loss: 0.0112 - val_accuracy: 0.9971\n",
      "Epoch 44/50\n",
      "1480/1480 [==============================] - 400s 270ms/step - loss: 0.0150 - accuracy: 0.9984 - val_loss: 0.0110 - val_accuracy: 0.9971\n",
      "Epoch 45/50\n",
      "1480/1480 [==============================] - 400s 270ms/step - loss: 0.0134 - accuracy: 0.9986 - val_loss: 0.0108 - val_accuracy: 0.9973\n",
      "Epoch 46/50\n",
      "1480/1480 [==============================] - 399s 269ms/step - loss: 0.0132 - accuracy: 0.9984 - val_loss: 0.0106 - val_accuracy: 0.9973\n",
      "Epoch 47/50\n",
      "1480/1480 [==============================] - 399s 270ms/step - loss: 0.0123 - accuracy: 0.9987 - val_loss: 0.0105 - val_accuracy: 0.9973\n",
      "Epoch 48/50\n",
      "1480/1480 [==============================] - 401s 271ms/step - loss: 0.0113 - accuracy: 0.9989 - val_loss: 0.0102 - val_accuracy: 0.9977\n",
      "Epoch 49/50\n",
      "1480/1480 [==============================] - 399s 269ms/step - loss: 0.0102 - accuracy: 0.9990 - val_loss: 0.0100 - val_accuracy: 0.9977\n",
      "Epoch 50/50\n",
      "1480/1480 [==============================] - 399s 270ms/step - loss: 0.0104 - accuracy: 0.9988 - val_loss: 0.0100 - val_accuracy: 0.9975\n"
     ]
    },
    {
     "ename": "TypeError",
     "evalue": "can only concatenate str (not \"module\") to str",
     "output_type": "error",
     "traceback": [
      "\u001b[0;31m---------------------------------------------------------------------------\u001b[0m",
      "\u001b[0;31mTypeError\u001b[0m                                 Traceback (most recent call last)",
      "\u001b[0;32m<ipython-input-18-142907496e7a>\u001b[0m in \u001b[0;36m<module>\u001b[0;34m\u001b[0m\n\u001b[1;32m      8\u001b[0m                     callbacks=[cb_early_stopper, cb_checkpointer])\n\u001b[1;32m      9\u001b[0m \u001b[0;34m\u001b[0m\u001b[0m\n\u001b[0;32m---> 10\u001b[0;31m \u001b[0mmodel\u001b[0m\u001b[0;34m.\u001b[0m\u001b[0msave\u001b[0m\u001b[0;34m(\u001b[0m\u001b[0msaved_path\u001b[0m \u001b[0;34m+\u001b[0m \u001b[0mdataset_name\u001b[0m \u001b[0;34m+\u001b[0m \u001b[0;34m'/'\u001b[0m \u001b[0;34m+\u001b[0m \u001b[0mtime\u001b[0m \u001b[0;34m+\u001b[0m \u001b[0;34m'/'\u001b[0m \u001b[0;34m+\u001b[0m \u001b[0mdataset_name\u001b[0m \u001b[0;34m+\u001b[0m \u001b[0;34m'.h5'\u001b[0m\u001b[0;34m)\u001b[0m\u001b[0;34m\u001b[0m\u001b[0;34m\u001b[0m\u001b[0m\n\u001b[0m",
      "\u001b[0;31mTypeError\u001b[0m: can only concatenate str (not \"module\") to str"
     ]
    }
   ],
   "source": [
    "history = model.fit(train_ds,\n",
    "                    epochs=50,\n",
    "                    steps_per_epoch=TRAIN_STEP_PER_EPOCH,\n",
    "                    shuffle=False,\n",
    "                    validation_data=valid_ds,\n",
    "                    validation_steps=VALID_STEP_PER_EPOCH,\n",
    "                    verbose=1,\n",
    "                    callbacks=[cb_early_stopper, cb_checkpointer, lr_callback])\n",
    "\n",
    "model.save(saved_path + dataset_name  + '/' + dataset_name + '.h5')"
   ]
  },
  {
   "cell_type": "code",
   "execution_count": 21,
   "metadata": {
    "ExecuteTime": {
     "end_time": "2020-06-11T00:35:44.107488Z",
     "start_time": "2020-06-11T00:35:43.143147Z"
    }
   },
   "outputs": [],
   "source": [
    "model.save(saved_path + dataset_name  + '/' + dataset_name + '.h5')"
   ]
  },
  {
   "cell_type": "code",
   "execution_count": 39,
   "metadata": {
    "ExecuteTime": {
     "end_time": "2020-06-11T05:37:27.305617Z",
     "start_time": "2020-06-11T05:37:27.078328Z"
    }
   },
   "outputs": [
    {
     "data": {
      "image/png": "[encoded data removed]",
      "text/plain": [
       "<Figure size 648x432 with 1 Axes>"
      ]
     },
     "metadata": {
      "needs_background": "light"
     },
     "output_type": "display_data"
    }
   ],
   "source": [
    "import numpy as np\n",
    "epochs = 50\n",
    "\n",
    "plt.figure(figsize=(9,6))\n",
    "plt.plot(np.arange(1, epochs+1), history.history['loss'])\n",
    "plt.plot(np.arange(1, epochs+1), history.history['val_loss'])\n",
    "plt.title('Loss / Val Loss', fontsize = 20)\n",
    "plt.xlabel('Epochs')\n",
    "plt.ylabel('Loss')\n",
    "plt.legend(['loss', 'val_loss'], fontsize=15)\n",
    "plt.show()"
   ]
  },
  {
   "cell_type": "code",
   "execution_count": null,
   "metadata": {},
   "outputs": [],
   "source": []
  }
 ],
 "metadata": {
  "kernelspec": {
   "display_name": "Python 3",
   "language": "python",
   "name": "python3"
  },
  "language_info": {
   "codemirror_mode": {
    "name": "ipython",
    "version": 3
   },
   "file_extension": ".py",
   "mimetype": "text/x-python",
   "name": "python",
   "nbconvert_exporter": "python",
   "pygments_lexer": "ipython3",
   "version": "3.7.6"
  },
  "toc": {
   "base_numbering": 1,
   "nav_menu": {},
   "number_sections": false,
   "sideBar": true,
   "skip_h1_title": false,
   "title_cell": "Table of Contents",
   "title_sidebar": "Contents",
   "toc_cell": false,
   "toc_position": {},
   "toc_section_display": true,
   "toc_window_display": false
  }
 },
 "nbformat": 4,
 "nbformat_minor": 2
}
